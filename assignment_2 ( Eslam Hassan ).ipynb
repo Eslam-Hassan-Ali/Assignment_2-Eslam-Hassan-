{
 "cells": [
  {
   "cell_type": "markdown",
   "metadata": {
    "id": "9NXyYtIAQuIG"
   },
   "source": [
    "# Python program to interchange first and last elements in a list\n"
   ]
  },
  {
   "cell_type": "markdown",
   "metadata": {
    "id": "Y8j1uUT8Q6Xf"
   },
   "source": [
    "- Examples\n",
    "\n",
    "- Input : [12, 35, 9, 56, 24]\n",
    "- Output : [24, 35, 9, 56, 12]\n",
    "\n",
    "- Input : [1, 2, 3]\n",
    "- Output : [3, 2, 1]"
   ]
  },
  {
   "cell_type": "code",
   "execution_count": 2,
   "metadata": {},
   "outputs": [
    {
     "name": "stdout",
     "output_type": "stream",
     "text": [
      "[24, 35, 9, 56, 12]\n"
     ]
    }
   ],
   "source": [
    "x=[12,35,9,56,24]\n",
    "x[0]=24\n",
    "x[-1]=12\n",
    "print(x)"
   ]
  },
  {
   "cell_type": "markdown",
   "metadata": {
    "id": "h-yd-gv7RnYW"
   },
   "source": [
    "### Find the Length of a List in Python\n",
    "\n"
   ]
  },
  {
   "cell_type": "markdown",
   "metadata": {
    "id": "AapkQMkGRqqg"
   },
   "source": [
    "- Input: lst = [10,20,30,40]\n",
    "- Output: 4\n",
    "- Explanation: The output is 4 because thelength of the list is  4."
   ]
  },
  {
   "cell_type": "code",
   "execution_count": 3,
   "metadata": {},
   "outputs": [
    {
     "name": "stdout",
     "output_type": "stream",
     "text": [
      "4\n"
     ]
    }
   ],
   "source": [
    "list_1=[10,20,30,40]\n",
    "x=len(list_1)\n",
    "print(x)"
   ]
  },
  {
   "cell_type": "markdown",
   "metadata": {
    "id": "Y-XZTe1ES7pJ"
   },
   "source": [
    "### Python | Find elements of a list by indices\n",
    "- Input : lst1 = [10, 20, 30, 40, 50]\n",
    "-        lst2 = [0, 2, 4]\n",
    "- Output : [10, 30, 50]"
   ]
  },
  {
   "cell_type": "code",
   "execution_count": 4,
   "metadata": {},
   "outputs": [
    {
     "name": "stdout",
     "output_type": "stream",
     "text": [
      "[10, 30, 50]\n"
     ]
    }
   ],
   "source": [
    "list_2=[10,20,30,40,50]\n",
    "x=list_2[0:5:2]\n",
    "print(x)"
   ]
  },
  {
   "cell_type": "markdown",
   "metadata": {
    "id": "3fmiplSXTmN-"
   },
   "source": [
    "# Python program to find the String in a List\n"
   ]
  },
  {
   "cell_type": "markdown",
   "metadata": {
    "id": "0HdTN1z3TpYH"
   },
   "source": [
    "- Input: l=[1, 1.0, 'have', 'a', 'geeky', 'day']; s='geeky'\n",
    "- Output: True\n",
    "- Explanation: geeky is present in the input list"
   ]
  },
  {
   "cell_type": "code",
   "execution_count": 15,
   "metadata": {},
   "outputs": [
    {
     "name": "stdout",
     "output_type": "stream",
     "text": [
      "true\n"
     ]
    }
   ],
   "source": [
    "# 1st solution\n",
    "x=[1,1.0,\"have\",\"a\",\"geeky\",\"day\"]\n",
    "for i in x:\n",
    "    if i==(\"geeky\"):\n",
    "        print(\"true\")"
   ]
  },
  {
   "cell_type": "code",
   "execution_count": 16,
   "metadata": {},
   "outputs": [
    {
     "name": "stdout",
     "output_type": "stream",
     "text": [
      "True\n"
     ]
    }
   ],
   "source": [
    "# another solution\n",
    "x=[1,1.0,\"have\",\"a\",\"geeky\",\"day\"]\n",
    "print(\"geeky\" in x)"
   ]
  },
  {
   "cell_type": "markdown",
   "metadata": {
    "id": "WI5-sy7eU9Gm"
   },
   "source": [
    "## Ways to find indices of value in list\n",
    "\n",
    "\n",
    "- list of animals\n",
    "- Animals= [\"cat\", \"dog\", \"tiger\"]\n",
    "- searching positiion of dog\n",
    "- output is 1"
   ]
  },
  {
   "cell_type": "code",
   "execution_count": 21,
   "metadata": {},
   "outputs": [
    {
     "data": {
      "text/plain": [
       "1"
      ]
     },
     "execution_count": 21,
     "metadata": {},
     "output_type": "execute_result"
    }
   ],
   "source": [
    "Animals=[\"cat\",\"dog\",\"tiger\"]\n",
    "Animals.index(\"dog\")"
   ]
  },
  {
   "cell_type": "markdown",
   "metadata": {},
   "source": [
    "Find most frequent element in a list\r\n",
    "Input : [2, 1, 2, 2, 1, 3]\r\n",
    "\r\n",
    "Output : 2\r\n",
    "\r\n",
    "Input : ['Dog', 'Cat', 'Dog']\r\n",
    "\r\n",
    "Output : Dog"
   ]
  },
  {
   "cell_type": "markdown",
   "metadata": {
    "id": "iplk5uDKfiye"
   },
   "source": [
    "- hint you can use max in python"
   ]
  },
  {
   "cell_type": "code",
   "execution_count": 30,
   "metadata": {},
   "outputs": [
    {
     "name": "stdout",
     "output_type": "stream",
     "text": [
      "2\n"
     ]
    }
   ],
   "source": [
    "x=[2,1,2,2,1,3]\n",
    "print(max(x, key = x.count))"
   ]
  },
  {
   "cell_type": "code",
   "execution_count": null,
   "metadata": {
    "id": "-vF6f8UQZIgq"
   },
   "outputs": [],
   "source": [
    "## Remove an Item from the List in Python.\n",
    "- Input: ['Rose',' Lily', 'Lotus', 'Sun', 'Sunflower']\n",
    "- Delete: 'Sun'\n",
    "- Output: ['Rose',' Lily', 'Lotus', 'Sunflower']\n",
    "- Explanation: In this, we have removed the 'Sun' element from the given list"
   ]
  },
  {
   "cell_type": "code",
   "execution_count": 31,
   "metadata": {},
   "outputs": [
    {
     "name": "stdout",
     "output_type": "stream",
     "text": [
      "['rose', 'lotus', 'sun', 'sunflower']\n"
     ]
    }
   ],
   "source": [
    "x=[\"rose\",\"lily\",\"lotus\",\"sun\",\"sunflower\"]\n",
    "x.remove(\"lily\")\n",
    "print(x)"
   ]
  },
  {
   "cell_type": "markdown",
   "metadata": {
    "id": "l_YTnBftZe7V"
   },
   "source": [
    "# Remove multiple elements from a list in Python\n",
    "- Input: [12, 15, 3, 10]\n",
    "- Output: Remove = [12, 3], New_List = [15, 10]\n",
    "\n",
    "- Input: [11, 5, 17, 18, 23, 50]\n",
    "- Output: Remove = [1:5], New_list = [11, 50]"
   ]
  },
  {
   "cell_type": "code",
   "execution_count": 35,
   "metadata": {},
   "outputs": [
    {
     "name": "stdout",
     "output_type": "stream",
     "text": [
      "[15, 10]\n"
     ]
    }
   ],
   "source": [
    "x=[12,15,3,10]\n",
    "for i in x:\n",
    "    if i==12 or i==3:\n",
    "        x.remove(i)\n",
    "print(x)"
   ]
  },
  {
   "cell_type": "markdown",
   "metadata": {
    "id": "yYoINEUvcG4-"
   },
   "source": [
    "# python program to check whether the string is Palindrome  and get the str from user"
   ]
  },
  {
   "cell_type": "markdown",
   "metadata": {
    "id": "ARhC7ZL6cvjO"
   },
   "source": [
    "- Input : malayalam\n",
    "- Output : True\n",
    "\n",
    "- Input : geeks\n",
    "- Output : False"
   ]
  },
  {
   "cell_type": "code",
   "execution_count": 40,
   "metadata": {},
   "outputs": [
    {
     "name": "stdin",
     "output_type": "stream",
     "text": [
      "Enter a word dad\n"
     ]
    },
    {
     "name": "stdout",
     "output_type": "stream",
     "text": [
      "true\n"
     ]
    }
   ],
   "source": [
    "x=input(\"Enter a word\")\n",
    "if x==x[::-1]:\n",
    "    print(\"true\")\n",
    "else:\n",
    "    print(\"false\")"
   ]
  },
  {
   "cell_type": "markdown",
   "metadata": {
    "id": "_EYlmszadOww"
   },
   "source": [
    "### Reverse Words in a Given String in Python\n",
    "- Input : str =\" geeks quiz practice code\"\n",
    "- Output : str = code practice quiz geeks  \n",
    "- Input : str = \"my name is laxmi\"\n",
    "- output : str= laxmi is name my"
   ]
  },
  {
   "cell_type": "code",
   "execution_count": 51,
   "metadata": {},
   "outputs": [
    {
     "name": "stdout",
     "output_type": "stream",
     "text": [
      "code practice quiz geeks\n"
     ]
    }
   ],
   "source": [
    "x=\"geeks quiz practice code\"\n",
    "y=x.split()[::-1]\n",
    "z=[]\n",
    "for i in y:\n",
    "    z.append(i)\n",
    "print(\" \".join(z))"
   ]
  },
  {
   "cell_type": "markdown",
   "metadata": {
    "id": "242TCJPleCof"
   },
   "source": [
    "### Find length of a string in python\n",
    "- Input : 'abc'\n",
    "- Output : 3\n",
    "\n",
    "- Input : 'hello world !'\n",
    "- Output : 13\n",
    "\n",
    "- Input : ' h e l   l  o '\n",
    "- Output :14"
   ]
  },
  {
   "cell_type": "code",
   "execution_count": 53,
   "metadata": {},
   "outputs": [
    {
     "name": "stdin",
     "output_type": "stream",
     "text": [
      "enter a word eslam hassan\n"
     ]
    },
    {
     "name": "stdout",
     "output_type": "stream",
     "text": [
      "12\n"
     ]
    }
   ],
   "source": [
    "x=input(\"enter a word\")\n",
    "y=len(x)\n",
    "print(y)"
   ]
  },
  {
   "cell_type": "markdown",
   "metadata": {
    "id": "rE_STqG_fFJs"
   },
   "source": [
    "###  Avoid Spaces in string length\n",
    "\n",
    "\n",
    "```\n",
    "- string = \"Hello, world!  \"\n",
    "- with space 15\n",
    "- without space is 12\n",
    "```\n",
    "\n",
    "\n"
   ]
  },
  {
   "cell_type": "markdown",
   "metadata": {
    "id": "zRnIlNqSf3ni"
   },
   "source": [
    "-  hint you can use len in python to get len of str or list"
   ]
  },
  {
   "cell_type": "markdown",
   "metadata": {
    "id": "FebQFluegBW2"
   },
   "source": [
    "# Smallest Length String in the list\n",
    "- test_list = ['gfg', 'is', 'best', 'for', 'geeks']\n",
    "- Minimum length string is : is\n"
   ]
  },
  {
   "cell_type": "code",
   "execution_count": 64,
   "metadata": {},
   "outputs": [
    {
     "name": "stdout",
     "output_type": "stream",
     "text": [
      "is\n"
     ]
    }
   ],
   "source": [
    "x=[\"gfg\",\"is\",\"best\",\"for\",\"geeks\"]\n",
    "print (min(x, key=len))"
   ]
  },
  {
   "cell_type": "markdown",
   "metadata": {
    "id": "Nn_2JLRJgZ3h"
   },
   "source": [
    "-  hint you can use min in python"
   ]
  }
 ],
 "metadata": {
  "colab": {
   "private_outputs": true,
   "provenance": []
  },
  "kernelspec": {
   "display_name": "Python 3 (ipykernel)",
   "language": "python",
   "name": "python3"
  },
  "language_info": {
   "codemirror_mode": {
    "name": "ipython",
    "version": 3
   },
   "file_extension": ".py",
   "mimetype": "text/x-python",
   "name": "python",
   "nbconvert_exporter": "python",
   "pygments_lexer": "ipython3",
   "version": "3.11.7"
  }
 },
 "nbformat": 4,
 "nbformat_minor": 4
}
